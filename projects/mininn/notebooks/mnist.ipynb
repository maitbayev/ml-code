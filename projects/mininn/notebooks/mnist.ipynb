{
 "cells": [
  {
   "cell_type": "code",
   "execution_count": 1,
   "id": "3235e88d-2918-4f8b-9cde-2aaa2357cc4c",
   "metadata": {},
   "outputs": [],
   "source": [
    "import numpy as np\n",
    "import mininn\n",
    "from pathlib import Path\n",
    "\n",
    "np.set_printoptions(precision=4, suppress=True)\n",
    "OUTPUT_DIR = Path(\"../output\").resolve()\n",
    "DATA_DIR = OUTPUT_DIR / \"data\""
   ]
  },
  {
   "cell_type": "code",
   "execution_count": 2,
   "id": "118279e4-4d3e-4191-a3f3-46c4ef6f736e",
   "metadata": {},
   "outputs": [],
   "source": [
    "def train(model, loss, train_loader, optimizer, epoch):\n",
    "    for i, (inputs, targets) in enumerate(train_loader):\n",
    "        optimizer.zero_grad();\n",
    "        inputs = inputs.numpy(force=True)\n",
    "        targets = targets.numpy(force=True)\n",
    "        loss_output = loss.forward(model(inputs), targets)\n",
    "        model.backward(loss.backward())\n",
    "        optimizer.step()\n",
    "        if (i % 10000 == 0):\n",
    "            print(f\"Epoch {epoch} loss {np.array(loss_output):.5f}\")\n"
   ]
  },
  {
   "cell_type": "code",
   "execution_count": 3,
   "id": "03c473f0-ece6-4a2b-bfa3-3dd39b87e250",
   "metadata": {},
   "outputs": [
    {
     "name": "stdout",
     "output_type": "stream",
     "text": [
      "Epoch 0 loss 2.96173\n",
      "Epoch 1 loss 0.02652\n",
      "Epoch 2 loss 0.01384\n",
      "Epoch 3 loss 0.01200\n",
      "Epoch 4 loss 0.00017\n",
      "Epoch 5 loss 0.00009\n",
      "Epoch 6 loss 0.00428\n",
      "Epoch 7 loss 0.00086\n",
      "Epoch 8 loss 0.00000\n",
      "Epoch 9 loss 0.01009\n",
      "Epoch 10 loss 0.00002\n",
      "Epoch 11 loss 0.00002\n",
      "Epoch 12 loss 0.00000\n",
      "Epoch 13 loss 0.00080\n",
      "Epoch 14 loss 0.00000\n",
      "Epoch 15 loss 0.00030\n",
      "Epoch 16 loss 0.00000\n",
      "Epoch 17 loss 0.00036\n",
      "Epoch 18 loss 0.00007\n",
      "Epoch 19 loss 0.00000\n",
      "Epoch 20 loss 0.00015\n",
      "Epoch 21 loss 0.00001\n",
      "Epoch 22 loss 0.00000\n",
      "Epoch 23 loss 0.00000\n",
      "Epoch 24 loss 0.00000\n",
      "Epoch 25 loss 0.00000\n",
      "Epoch 26 loss 0.15492\n",
      "Epoch 27 loss 0.00000\n",
      "Epoch 28 loss 0.00000\n",
      "Epoch 29 loss 0.00000\n",
      "Epoch 30 loss 0.00000\n",
      "Epoch 31 loss 0.00000\n",
      "Epoch 32 loss 0.00008\n",
      "Epoch 33 loss 0.00000\n",
      "Epoch 34 loss 0.00000\n",
      "Epoch 35 loss 0.00000\n",
      "Epoch 36 loss 0.00000\n",
      "Epoch 37 loss 0.00000\n",
      "Epoch 38 loss 0.00000\n",
      "Epoch 39 loss 0.00000\n",
      "Epoch 40 loss 0.00000\n",
      "Epoch 41 loss 0.00000\n",
      "Epoch 42 loss 0.00100\n",
      "Epoch 43 loss 0.00002\n",
      "Epoch 44 loss 0.00000\n",
      "Epoch 45 loss 0.00000\n",
      "Epoch 46 loss 0.00000\n",
      "Epoch 47 loss 0.00000\n",
      "Epoch 48 loss 0.00000\n",
      "Epoch 49 loss 0.00000\n",
      "Epoch 50 loss 0.00000\n",
      "Epoch 51 loss 0.00000\n",
      "Epoch 52 loss 0.00000\n",
      "Epoch 53 loss 0.00000\n",
      "Epoch 54 loss 0.00000\n",
      "Epoch 55 loss 0.00000\n",
      "Epoch 56 loss 0.00000\n",
      "Epoch 57 loss 0.00000\n",
      "Epoch 58 loss 0.00000\n",
      "Epoch 59 loss -0.00000\n",
      "Epoch 60 loss -0.00000\n",
      "Epoch 61 loss 0.00000\n",
      "Epoch 62 loss 0.00000\n",
      "Epoch 63 loss 0.00000\n",
      "Epoch 64 loss 0.00001\n",
      "Epoch 65 loss -0.00000\n",
      "Epoch 66 loss 0.00000\n",
      "Epoch 67 loss 0.00000\n",
      "Epoch 68 loss 0.00000\n",
      "Epoch 69 loss -0.00000\n",
      "Epoch 70 loss -0.00000\n",
      "Epoch 71 loss -0.00000\n",
      "Epoch 72 loss 0.00000\n",
      "Epoch 73 loss 0.00000\n",
      "Epoch 74 loss 0.00000\n",
      "Epoch 75 loss 0.00000\n",
      "Epoch 76 loss 0.00000\n",
      "Epoch 77 loss -0.00000\n",
      "Epoch 78 loss 0.00000\n",
      "Epoch 79 loss -0.00000\n",
      "Epoch 80 loss 0.00000\n",
      "Epoch 81 loss 0.00000\n",
      "Epoch 82 loss -0.00000\n",
      "Epoch 83 loss 0.00000\n",
      "Epoch 84 loss -0.00000\n",
      "Epoch 85 loss 0.00001\n",
      "Epoch 86 loss 0.00000\n",
      "Epoch 87 loss -0.00000\n",
      "Epoch 88 loss 0.00000\n",
      "Epoch 89 loss 0.00000\n",
      "Epoch 90 loss -0.00000\n",
      "Epoch 91 loss -0.00000\n",
      "Epoch 92 loss -0.00000\n",
      "Epoch 93 loss -0.00000\n",
      "Epoch 94 loss 0.00000\n",
      "Epoch 95 loss -0.00000\n",
      "Epoch 96 loss 0.00000\n",
      "Epoch 97 loss 0.00001\n",
      "Epoch 98 loss 0.00000\n",
      "Epoch 99 loss 0.00000\n"
     ]
    }
   ],
   "source": [
    "from torchvision import datasets\n",
    "from torch.utils.data import DataLoader\n",
    "\n",
    "mnist_train = datasets.MNIST(\n",
    "    DATA_DIR, \n",
    "    download=True, \n",
    "    transform=lambda x: np.array(x).reshape(28*28) / 255.0, \n",
    ")\n",
    "mnist_test = datasets.MNIST(\n",
    "    DATA_DIR,\n",
    "    train=False,\n",
    "    download=True,\n",
    "    transform=lambda x: np.array(x).reshape(28*28) / 255.0,\n",
    ")\n",
    "train_loader = DataLoader(mnist_train, batch_size=8, shuffle=True)\n",
    "test_loader = DataLoader(mnist_test, batch_size=8, shuffle=False)\n",
    "\n",
    "model = mininn.Sequential([\n",
    "    mininn.Linear(28 * 28, 200),\n",
    "    mininn.ReLU(),\n",
    "    mininn.Linear(200, 20),\n",
    "])\n",
    "loss = mininn.CrossEntropyLoss()\n",
    "optimizer = mininn.optim.Adam(model.parameters(), lr=0.001)\n",
    "\n",
    "for epoch in range(100):\n",
    "    train(model, loss, train_loader, optimizer, epoch)"
   ]
  },
  {
   "cell_type": "code",
   "execution_count": 4,
   "id": "4f150dd9-be89-4cb7-ac85-0b1446d606f6",
   "metadata": {},
   "outputs": [
    {
     "name": "stdout",
     "output_type": "stream",
     "text": [
      "0.981\n"
     ]
    }
   ],
   "source": [
    "def test(model, test_loader):\n",
    "    num_correct = 0\n",
    "    num_samples = 0\n",
    "    for inputs, targets in test_loader:\n",
    "        inputs = inputs.numpy(force=True)\n",
    "        targets = targets.numpy(force=True)\n",
    "        outputs = model(inputs)\n",
    "        predictions = outputs.argmax(axis=1)\n",
    "        num_correct += (predictions == targets).sum()\n",
    "        num_samples += predictions.shape[0]\n",
    "    print(num_correct / num_samples)\n",
    "\n",
    "test(model, test_loader)"
   ]
  },
  {
   "cell_type": "code",
   "execution_count": 5,
   "id": "39ca1223-19c0-4c2a-968c-e7239e876cc8",
   "metadata": {},
   "outputs": [
    {
     "name": "stdout",
     "output_type": "stream",
     "text": [
      "0.9995833333333334\n"
     ]
    }
   ],
   "source": [
    "test(model, train_loader)"
   ]
  },
  {
   "cell_type": "code",
   "execution_count": null,
   "id": "df3d2911-3575-4c4f-9e40-f05913a1e83f",
   "metadata": {},
   "outputs": [],
   "source": []
  }
 ],
 "metadata": {
  "kernelspec": {
   "display_name": "Python 3 (ipykernel)",
   "language": "python",
   "name": "python3"
  },
  "language_info": {
   "codemirror_mode": {
    "name": "ipython",
    "version": 3
   },
   "file_extension": ".py",
   "mimetype": "text/x-python",
   "name": "python",
   "nbconvert_exporter": "python",
   "pygments_lexer": "ipython3",
   "version": "3.12.6"
  }
 },
 "nbformat": 4,
 "nbformat_minor": 5
}
