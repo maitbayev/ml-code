{
 "cells": [
  {
   "cell_type": "code",
   "execution_count": 5,
   "id": "3235e88d-2918-4f8b-9cde-2aaa2357cc4c",
   "metadata": {},
   "outputs": [],
   "source": [
    "import torchvision\n",
    "from pathlib import Path"
   ]
  },
  {
   "cell_type": "code",
   "execution_count": 6,
   "id": "1f891d7a-8c55-4b1f-8b4d-94354fb516eb",
   "metadata": {},
   "outputs": [
    {
     "ename": "TypeError",
     "evalue": "MNIST.__init__() missing 1 required positional argument: 'root'",
     "output_type": "error",
     "traceback": [
      "\u001b[31m---------------------------------------------------------------------------\u001b[39m",
      "\u001b[31mTypeError\u001b[39m                                 Traceback (most recent call last)",
      "\u001b[36mCell\u001b[39m\u001b[36m \u001b[39m\u001b[32mIn[6]\u001b[39m\u001b[32m, line 1\u001b[39m\n\u001b[32m----> \u001b[39m\u001b[32m1\u001b[39m \u001b[43mtorchvision\u001b[49m\u001b[43m.\u001b[49m\u001b[43mdatasets\u001b[49m\u001b[43m.\u001b[49m\u001b[43mMNIST\u001b[49m\u001b[43m(\u001b[49m\u001b[43m)\u001b[49m\n",
      "\u001b[31mTypeError\u001b[39m: MNIST.__init__() missing 1 required positional argument: 'root'"
     ]
    }
   ],
   "source": [
    "torchvision.datasets.MNIST()"
   ]
  },
  {
   "cell_type": "code",
   "execution_count": 10,
   "id": "23ca1f8d-b0de-45d1-8f8b-8c9db2076876",
   "metadata": {},
   "outputs": [
    {
     "name": "stdout",
     "output_type": "stream",
     "text": [
      "/Users/maitbayev/Dev/ml-code/projects/mininn/output\n"
     ]
    }
   ],
   "source": [
    "OUTPUT_DIR = Path(\"../output\").resolve()\n",
    "print(OUTPUT_DIR)"
   ]
  },
  {
   "cell_type": "code",
   "execution_count": null,
   "id": "46884105-e016-4632-aebf-0a5da0c7fd60",
   "metadata": {},
   "outputs": [],
   "source": []
  }
 ],
 "metadata": {
  "kernelspec": {
   "display_name": "Python 3 (ipykernel)",
   "language": "python",
   "name": "python3"
  },
  "language_info": {
   "codemirror_mode": {
    "name": "ipython",
    "version": 3
   },
   "file_extension": ".py",
   "mimetype": "text/x-python",
   "name": "python",
   "nbconvert_exporter": "python",
   "pygments_lexer": "ipython3",
   "version": "3.12.6"
  }
 },
 "nbformat": 4,
 "nbformat_minor": 5
}
